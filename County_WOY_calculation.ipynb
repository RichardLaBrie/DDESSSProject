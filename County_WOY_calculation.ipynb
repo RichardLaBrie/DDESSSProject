{
 "cells": [
  {
   "cell_type": "markdown",
   "metadata": {},
   "source": [
    "# Calculate the state and week of the year based on coordinate and date"
   ]
  },
  {
   "cell_type": "markdown",
   "metadata": {},
   "source": [
    "Step in OpenRefine before importing in R\n",
    "\n",
    "Facet by issue\n",
    "create new column BRI\n",
    "Facet BRI (Basis of Record Invalid), choose blank\n",
    "Facet by CountryCode, choose US\n",
    "#Step only for Asclepias:\n",
    "Facet by name, choose Asclepias incarnata, syriaca, tuberosa, verticillata, fascicularis, asperula, viridis, speciosa, curassavica"
   ]
  },
  {
   "cell_type": "code",
   "execution_count": 1,
   "metadata": {
    "collapsed": false
   },
   "outputs": [
    {
     "data": {
      "text/html": [
       "'/Users/vlemieuxlabonte'"
      ],
      "text/latex": [
       "'/Users/vlemieuxlabonte'"
      ],
      "text/markdown": [
       "'/Users/vlemieuxlabonte'"
      ],
      "text/plain": [
       "[1] \"/Users/vlemieuxlabonte\""
      ]
     },
     "metadata": {},
     "output_type": "display_data"
    }
   ],
   "source": [
    "getwd()"
   ]
  },
  {
   "cell_type": "markdown",
   "metadata": {},
   "source": [
    "Open data and remove rows with NA"
   ]
  },
  {
   "cell_type": "code",
   "execution_count": 2,
   "metadata": {
    "collapsed": false
   },
   "outputs": [
    {
     "data": {
      "text/html": [
       "<table>\n",
       "<thead><tr><th scope=col>name</th><th scope=col>long</th><th scope=col>lat</th><th scope=col>year</th><th scope=col>date</th></tr></thead>\n",
       "<tbody>\n",
       "\t<tr><td>Asclepias curassavica </td><td> -82.44129            </td><td>29.60351              </td><td>2017                  </td><td>2017-01-26            </td></tr>\n",
       "\t<tr><td>Asclepias syriaca     </td><td> -76.50381            </td><td>39.57328              </td><td>2017                  </td><td>2017-01-01            </td></tr>\n",
       "\t<tr><td>Asclepias fascicularis</td><td>-118.61500            </td><td>34.27285              </td><td>2017                  </td><td>2017-01-05            </td></tr>\n",
       "\t<tr><td>Asclepias curassavica </td><td> -80.16004            </td><td>25.67369              </td><td>2017                  </td><td>2017-01-16            </td></tr>\n",
       "\t<tr><td>Asclepias syriaca     </td><td> -74.30058            </td><td>40.68552              </td><td>2017                  </td><td>2017-01-19            </td></tr>\n",
       "\t<tr><td>Asclepias curassavica </td><td>-122.35302            </td><td>37.96350              </td><td>2017                  </td><td>2017-01-06            </td></tr>\n",
       "</tbody>\n",
       "</table>\n"
      ],
      "text/latex": [
       "\\begin{tabular}{r|lllll}\n",
       " name & long & lat & year & date\\\\\n",
       "\\hline\n",
       "\t Asclepias curassavica  &  -82.44129             & 29.60351               & 2017                   & 2017-01-26            \\\\\n",
       "\t Asclepias syriaca      &  -76.50381             & 39.57328               & 2017                   & 2017-01-01            \\\\\n",
       "\t Asclepias fascicularis & -118.61500             & 34.27285               & 2017                   & 2017-01-05            \\\\\n",
       "\t Asclepias curassavica  &  -80.16004             & 25.67369               & 2017                   & 2017-01-16            \\\\\n",
       "\t Asclepias syriaca      &  -74.30058             & 40.68552               & 2017                   & 2017-01-19            \\\\\n",
       "\t Asclepias curassavica  & -122.35302             & 37.96350               & 2017                   & 2017-01-06            \\\\\n",
       "\\end{tabular}\n"
      ],
      "text/markdown": [
       "\n",
       "name | long | lat | year | date | \n",
       "|---|---|---|---|---|---|\n",
       "| Asclepias curassavica  |  -82.44129             | 29.60351               | 2017                   | 2017-01-26             | \n",
       "| Asclepias syriaca      |  -76.50381             | 39.57328               | 2017                   | 2017-01-01             | \n",
       "| Asclepias fascicularis | -118.61500             | 34.27285               | 2017                   | 2017-01-05             | \n",
       "| Asclepias curassavica  |  -80.16004             | 25.67369               | 2017                   | 2017-01-16             | \n",
       "| Asclepias syriaca      |  -74.30058             | 40.68552               | 2017                   | 2017-01-19             | \n",
       "| Asclepias curassavica  | -122.35302             | 37.96350               | 2017                   | 2017-01-06             | \n",
       "\n",
       "\n"
      ],
      "text/plain": [
       "  name                   long       lat      year date      \n",
       "1 Asclepias curassavica   -82.44129 29.60351 2017 2017-01-26\n",
       "2 Asclepias syriaca       -76.50381 39.57328 2017 2017-01-01\n",
       "3 Asclepias fascicularis -118.61500 34.27285 2017 2017-01-05\n",
       "4 Asclepias curassavica   -80.16004 25.67369 2017 2017-01-16\n",
       "5 Asclepias syriaca       -74.30058 40.68552 2017 2017-01-19\n",
       "6 Asclepias curassavica  -122.35302 37.96350 2017 2017-01-06"
      ]
     },
     "metadata": {},
     "output_type": "display_data"
    },
    {
     "data": {
      "text/html": [
       "<table>\n",
       "<thead><tr><th scope=col>name</th><th scope=col>long</th><th scope=col>lat</th><th scope=col>year</th><th scope=col>date</th></tr></thead>\n",
       "<tbody>\n",
       "\t<tr><td>Danaus plexippus</td><td> -82.54852      </td><td>27.34174        </td><td>2017            </td><td>2017-01-30      </td></tr>\n",
       "\t<tr><td>Danaus plexippus</td><td>-117.85259      </td><td>34.13347        </td><td>2017            </td><td>2017-01-09      </td></tr>\n",
       "\t<tr><td>Danaus plexippus</td><td>-117.85254      </td><td>34.13339        </td><td>2017            </td><td>2017-01-03      </td></tr>\n",
       "\t<tr><td>Danaus plexippus</td><td> -97.17492      </td><td>26.14002        </td><td>2017            </td><td>2017-01-12      </td></tr>\n",
       "\t<tr><td>Danaus plexippus</td><td>-118.42388      </td><td>34.01702        </td><td>2017            </td><td>2017-01-17      </td></tr>\n",
       "\t<tr><td>Danaus plexippus</td><td> -97.17505      </td><td>26.13994        </td><td>2017            </td><td>2017-01-24      </td></tr>\n",
       "</tbody>\n",
       "</table>\n"
      ],
      "text/latex": [
       "\\begin{tabular}{r|lllll}\n",
       " name & long & lat & year & date\\\\\n",
       "\\hline\n",
       "\t Danaus plexippus &  -82.54852       & 27.34174         & 2017             & 2017-01-30      \\\\\n",
       "\t Danaus plexippus & -117.85259       & 34.13347         & 2017             & 2017-01-09      \\\\\n",
       "\t Danaus plexippus & -117.85254       & 34.13339         & 2017             & 2017-01-03      \\\\\n",
       "\t Danaus plexippus &  -97.17492       & 26.14002         & 2017             & 2017-01-12      \\\\\n",
       "\t Danaus plexippus & -118.42388       & 34.01702         & 2017             & 2017-01-17      \\\\\n",
       "\t Danaus plexippus &  -97.17505       & 26.13994         & 2017             & 2017-01-24      \\\\\n",
       "\\end{tabular}\n"
      ],
      "text/markdown": [
       "\n",
       "name | long | lat | year | date | \n",
       "|---|---|---|---|---|---|\n",
       "| Danaus plexippus |  -82.54852       | 27.34174         | 2017             | 2017-01-30       | \n",
       "| Danaus plexippus | -117.85259       | 34.13347         | 2017             | 2017-01-09       | \n",
       "| Danaus plexippus | -117.85254       | 34.13339         | 2017             | 2017-01-03       | \n",
       "| Danaus plexippus |  -97.17492       | 26.14002         | 2017             | 2017-01-12       | \n",
       "| Danaus plexippus | -118.42388       | 34.01702         | 2017             | 2017-01-17       | \n",
       "| Danaus plexippus |  -97.17505       | 26.13994         | 2017             | 2017-01-24       | \n",
       "\n",
       "\n"
      ],
      "text/plain": [
       "  name             long       lat      year date      \n",
       "1 Danaus plexippus  -82.54852 27.34174 2017 2017-01-30\n",
       "2 Danaus plexippus -117.85259 34.13347 2017 2017-01-09\n",
       "3 Danaus plexippus -117.85254 34.13339 2017 2017-01-03\n",
       "4 Danaus plexippus  -97.17492 26.14002 2017 2017-01-12\n",
       "5 Danaus plexippus -118.42388 34.01702 2017 2017-01-17\n",
       "6 Danaus plexippus  -97.17505 26.13994 2017 2017-01-24"
      ]
     },
     "metadata": {},
     "output_type": "display_data"
    }
   ],
   "source": [
    "Asc<-read.csv(\"asclepias_short.csv\", header = T)\n",
    "Asc_clean<-na.omit(Asc)\n",
    "Dan<-read.csv(\"Danaus_short.csv\",header = T)\n",
    "Dan_clean<-na.omit(Dan)\n",
    "head(Asc)\n",
    "head(Dan)"
   ]
  },
  {
   "cell_type": "markdown",
   "metadata": {},
   "source": [
    "Open library for states determination"
   ]
  },
  {
   "cell_type": "code",
   "execution_count": 3,
   "metadata": {
    "collapsed": false
   },
   "outputs": [
    {
     "name": "stderr",
     "output_type": "stream",
     "text": [
      "Warning message:\n",
      "“package ‘sp’ was built under R version 3.3.2”Warning message:\n",
      "“package ‘maptools’ was built under R version 3.3.2”Checking rgeos availability: TRUE\n"
     ]
    }
   ],
   "source": [
    "library(sp)\n",
    "library(maps)\n",
    "library(maptools)"
   ]
  },
  {
   "cell_type": "markdown",
   "metadata": {},
   "source": [
    "Function to dertemine state based on geographic coordinates"
   ]
  },
  {
   "cell_type": "code",
   "execution_count": 4,
   "metadata": {
    "collapsed": false
   },
   "outputs": [],
   "source": [
    "latlong2state <- function(pointsDF) {\n",
    "  # Prepare SpatialPolygons object with one SpatialPolygon\n",
    "  # per state (plus DC, minus HI & AK)\n",
    "  states <- map('state', fill=TRUE, col=\"transparent\", plot=FALSE)\n",
    "  IDs <- sapply(strsplit(states$names, \":\"), function(x) x[1])\n",
    "  states_sp <- map2SpatialPolygons(states, IDs=IDs,\n",
    "                                   proj4string=CRS(\"+proj=longlat +datum=WGS84\"))\n",
    "  \n",
    "  # Convert pointsDF to a SpatialPoints object \n",
    "  pointsSP <- SpatialPoints(pointsDF, \n",
    "                            proj4string=CRS(\"+proj=longlat +datum=WGS84\"))\n",
    "  \n",
    "  # Use 'over' to get _indices_ of the Polygons object containing each point \n",
    "  indices <- over(pointsSP, states_sp)\n",
    "  \n",
    "  # Return the state names of the Polygons object containing each point\n",
    "  stateNames <- sapply(states_sp@polygons, function(x) x@ID)\n",
    "  stateNames[indices]}"
   ]
  },
  {
   "cell_type": "markdown",
   "metadata": {},
   "source": [
    "Calculate state"
   ]
  },
  {
   "cell_type": "code",
   "execution_count": 5,
   "metadata": {
    "collapsed": false
   },
   "outputs": [
    {
     "data": {
      "text/html": [
       "<ol class=list-inline>\n",
       "\t<li>'florida'</li>\n",
       "\t<li>'maryland'</li>\n",
       "\t<li>'california'</li>\n",
       "\t<li>NA</li>\n",
       "\t<li>'new jersey'</li>\n",
       "\t<li>'california'</li>\n",
       "</ol>\n"
      ],
      "text/latex": [
       "\\begin{enumerate*}\n",
       "\\item 'florida'\n",
       "\\item 'maryland'\n",
       "\\item 'california'\n",
       "\\item NA\n",
       "\\item 'new jersey'\n",
       "\\item 'california'\n",
       "\\end{enumerate*}\n"
      ],
      "text/markdown": [
       "1. 'florida'\n",
       "2. 'maryland'\n",
       "3. 'california'\n",
       "4. NA\n",
       "5. 'new jersey'\n",
       "6. 'california'\n",
       "\n",
       "\n"
      ],
      "text/plain": [
       "[1] \"florida\"    \"maryland\"   \"california\" NA           \"new jersey\"\n",
       "[6] \"california\""
      ]
     },
     "metadata": {},
     "output_type": "display_data"
    },
    {
     "data": {
      "text/html": [
       "<ol class=list-inline>\n",
       "\t<li>'florida'</li>\n",
       "\t<li>'california'</li>\n",
       "\t<li>'california'</li>\n",
       "\t<li>NA</li>\n",
       "\t<li>'california'</li>\n",
       "\t<li>NA</li>\n",
       "</ol>\n"
      ],
      "text/latex": [
       "\\begin{enumerate*}\n",
       "\\item 'florida'\n",
       "\\item 'california'\n",
       "\\item 'california'\n",
       "\\item NA\n",
       "\\item 'california'\n",
       "\\item NA\n",
       "\\end{enumerate*}\n"
      ],
      "text/markdown": [
       "1. 'florida'\n",
       "2. 'california'\n",
       "3. 'california'\n",
       "4. NA\n",
       "5. 'california'\n",
       "6. NA\n",
       "\n",
       "\n"
      ],
      "text/plain": [
       "[1] \"florida\"    \"california\" \"california\" NA           \"california\"\n",
       "[6] NA          "
      ]
     },
     "metadata": {},
     "output_type": "display_data"
    }
   ],
   "source": [
    "coord_Asc<-data.frame(x=Asc_clean$long,y=Asc_clean$lat)\n",
    "coord_Dan<-data.frame(x=Dan_clean$long,y=Dan_clean$lat)\n",
    "states_Asc<-latlong2state(coord_Asc)\n",
    "states_Dan<-latlong2state(coord_Dan)\n",
    "head(states_Asc)\n",
    "head(states_Dan)"
   ]
  },
  {
   "cell_type": "markdown",
   "metadata": {},
   "source": [
    "Calculate date"
   ]
  },
  {
   "cell_type": "code",
   "execution_count": 6,
   "metadata": {
    "collapsed": false
   },
   "outputs": [],
   "source": [
    "date_Asc<-as.Date(Asc_clean$date)\n",
    "date_Dan<-as.Date(Dan_clean$date)\n",
    "time_Asc<-data.frame(DOY=as.POSIXlt(date_Asc, format = \"20%y-%m-%d\")$yday+1,\n",
    "           WOY=as.numeric(format(date_Asc, format = \"%W\"))+1)\n",
    "time_Dan<-data.frame(DOY=as.POSIXlt(date_Dan, format = \"20%y-%m-%d\")$yday+1,\n",
    "           WOY=as.numeric(format(date_Dan, format = \"%W\")))\n"
   ]
  },
  {
   "cell_type": "markdown",
   "metadata": {},
   "source": [
    "Attach the new columns to the cleaned data frame"
   ]
  },
  {
   "cell_type": "code",
   "execution_count": 7,
   "metadata": {
    "collapsed": false
   },
   "outputs": [],
   "source": [
    "Asc_state_WOY<-cbind(Asc_clean,states_Asc,time_Asc)\n",
    "Dan_state_WOY<-cbind(Dan_clean,states_Dan,time_Dan)"
   ]
  },
  {
   "cell_type": "code",
   "execution_count": 8,
   "metadata": {
    "collapsed": true
   },
   "outputs": [],
   "source": [
    "Asc_state_WOY_clean=na.omit(Asc_state_WOY)\n",
    "Dan_state_WOY_clean=na.omit(Dan_state_WOY)"
   ]
  },
  {
   "cell_type": "code",
   "execution_count": 9,
   "metadata": {
    "collapsed": true
   },
   "outputs": [],
   "source": [
    "write.table(Asc_state_WOY_clean, \"Asc_state_WOY_clean.csv\", sep=\",\", row.names=FALSE, fileEncoding=\"UTF-8\")\n",
    "write.table(Dan_state_WOY_clean, \"Dan_state_WOY_clean.csv\", sep=\",\", row.names=FALSE, fileEncoding=\"UTF-8\")"
   ]
  },
  {
   "cell_type": "markdown",
   "metadata": {},
   "source": [
    "Export the data frames as CSV file"
   ]
  },
  {
   "cell_type": "code",
   "execution_count": 10,
   "metadata": {
    "collapsed": false
   },
   "outputs": [
    {
     "data": {
      "text/html": [
       "<table>\n",
       "<thead><tr><th></th><th scope=col>name</th><th scope=col>long</th><th scope=col>lat</th><th scope=col>year</th><th scope=col>date</th><th scope=col>states_Asc</th><th scope=col>DOY</th><th scope=col>WOY</th></tr></thead>\n",
       "<tbody>\n",
       "\t<tr><th scope=row>1</th><td>Asclepias curassavica </td><td> -82.44129            </td><td>29.60351              </td><td>2017                  </td><td>2017-01-26            </td><td>florida               </td><td>26                    </td><td>5                     </td></tr>\n",
       "\t<tr><th scope=row>2</th><td>Asclepias syriaca     </td><td> -76.50381            </td><td>39.57328              </td><td>2017                  </td><td>2017-01-01            </td><td>maryland              </td><td> 1                    </td><td>1                     </td></tr>\n",
       "\t<tr><th scope=row>3</th><td>Asclepias fascicularis</td><td>-118.61500            </td><td>34.27285              </td><td>2017                  </td><td>2017-01-05            </td><td>california            </td><td> 5                    </td><td>2                     </td></tr>\n",
       "\t<tr><th scope=row>5</th><td>Asclepias syriaca     </td><td> -74.30058            </td><td>40.68552              </td><td>2017                  </td><td>2017-01-19            </td><td>new jersey            </td><td>19                    </td><td>4                     </td></tr>\n",
       "\t<tr><th scope=row>6</th><td>Asclepias curassavica </td><td>-122.35302            </td><td>37.96350              </td><td>2017                  </td><td>2017-01-06            </td><td>california            </td><td> 6                    </td><td>2                     </td></tr>\n",
       "\t<tr><th scope=row>7</th><td>Asclepias syriaca     </td><td> -88.10802            </td><td>41.71613              </td><td>2017                  </td><td>2017-01-13            </td><td>illinois              </td><td>13                    </td><td>3                     </td></tr>\n",
       "</tbody>\n",
       "</table>\n"
      ],
      "text/latex": [
       "\\begin{tabular}{r|llllllll}\n",
       "  & name & long & lat & year & date & states\\_Asc & DOY & WOY\\\\\n",
       "\\hline\n",
       "\t1 & Asclepias curassavica  &  -82.44129             & 29.60351               & 2017                   & 2017-01-26             & florida                & 26                     & 5                     \\\\\n",
       "\t2 & Asclepias syriaca      &  -76.50381             & 39.57328               & 2017                   & 2017-01-01             & maryland               &  1                     & 1                     \\\\\n",
       "\t3 & Asclepias fascicularis & -118.61500             & 34.27285               & 2017                   & 2017-01-05             & california             &  5                     & 2                     \\\\\n",
       "\t5 & Asclepias syriaca      &  -74.30058             & 40.68552               & 2017                   & 2017-01-19             & new jersey             & 19                     & 4                     \\\\\n",
       "\t6 & Asclepias curassavica  & -122.35302             & 37.96350               & 2017                   & 2017-01-06             & california             &  6                     & 2                     \\\\\n",
       "\t7 & Asclepias syriaca      &  -88.10802             & 41.71613               & 2017                   & 2017-01-13             & illinois               & 13                     & 3                     \\\\\n",
       "\\end{tabular}\n"
      ],
      "text/markdown": [
       "\n",
       "| <!--/--> | name | long | lat | year | date | states_Asc | DOY | WOY | \n",
       "|---|---|---|---|---|---|\n",
       "| 1 | Asclepias curassavica  |  -82.44129             | 29.60351               | 2017                   | 2017-01-26             | florida                | 26                     | 5                      | \n",
       "| 2 | Asclepias syriaca      |  -76.50381             | 39.57328               | 2017                   | 2017-01-01             | maryland               |  1                     | 1                      | \n",
       "| 3 | Asclepias fascicularis | -118.61500             | 34.27285               | 2017                   | 2017-01-05             | california             |  5                     | 2                      | \n",
       "| 5 | Asclepias syriaca      |  -74.30058             | 40.68552               | 2017                   | 2017-01-19             | new jersey             | 19                     | 4                      | \n",
       "| 6 | Asclepias curassavica  | -122.35302             | 37.96350               | 2017                   | 2017-01-06             | california             |  6                     | 2                      | \n",
       "| 7 | Asclepias syriaca      |  -88.10802             | 41.71613               | 2017                   | 2017-01-13             | illinois               | 13                     | 3                      | \n",
       "\n",
       "\n"
      ],
      "text/plain": [
       "  name                   long       lat      year date       states_Asc DOY WOY\n",
       "1 Asclepias curassavica   -82.44129 29.60351 2017 2017-01-26 florida    26  5  \n",
       "2 Asclepias syriaca       -76.50381 39.57328 2017 2017-01-01 maryland    1  1  \n",
       "3 Asclepias fascicularis -118.61500 34.27285 2017 2017-01-05 california  5  2  \n",
       "5 Asclepias syriaca       -74.30058 40.68552 2017 2017-01-19 new jersey 19  4  \n",
       "6 Asclepias curassavica  -122.35302 37.96350 2017 2017-01-06 california  6  2  \n",
       "7 Asclepias syriaca       -88.10802 41.71613 2017 2017-01-13 illinois   13  3  "
      ]
     },
     "metadata": {},
     "output_type": "display_data"
    },
    {
     "data": {
      "text/html": [
       "<table>\n",
       "<thead><tr><th></th><th scope=col>name</th><th scope=col>long</th><th scope=col>lat</th><th scope=col>year</th><th scope=col>date</th><th scope=col>states_Dan</th><th scope=col>DOY</th><th scope=col>WOY</th></tr></thead>\n",
       "<tbody>\n",
       "\t<tr><th scope=row>1</th><td>Danaus plexippus</td><td> -82.54852      </td><td>27.34174        </td><td>2017            </td><td>2017-01-30      </td><td>florida         </td><td>30              </td><td>5               </td></tr>\n",
       "\t<tr><th scope=row>2</th><td>Danaus plexippus</td><td>-117.85259      </td><td>34.13347        </td><td>2017            </td><td>2017-01-09      </td><td>california      </td><td> 9              </td><td>2               </td></tr>\n",
       "\t<tr><th scope=row>3</th><td>Danaus plexippus</td><td>-117.85254      </td><td>34.13339        </td><td>2017            </td><td>2017-01-03      </td><td>california      </td><td> 3              </td><td>1               </td></tr>\n",
       "\t<tr><th scope=row>5</th><td>Danaus plexippus</td><td>-118.42388      </td><td>34.01702        </td><td>2017            </td><td>2017-01-17      </td><td>california      </td><td>17              </td><td>3               </td></tr>\n",
       "\t<tr><th scope=row>7</th><td>Danaus plexippus</td><td>-122.05990      </td><td>36.98272        </td><td>2017            </td><td>2017-01-28      </td><td>california      </td><td>28              </td><td>4               </td></tr>\n",
       "\t<tr><th scope=row>8</th><td>Danaus plexippus</td><td>-117.85247      </td><td>34.13336        </td><td>2017            </td><td>2017-01-09      </td><td>california      </td><td> 9              </td><td>2               </td></tr>\n",
       "</tbody>\n",
       "</table>\n"
      ],
      "text/latex": [
       "\\begin{tabular}{r|llllllll}\n",
       "  & name & long & lat & year & date & states\\_Dan & DOY & WOY\\\\\n",
       "\\hline\n",
       "\t1 & Danaus plexippus &  -82.54852       & 27.34174         & 2017             & 2017-01-30       & florida          & 30               & 5               \\\\\n",
       "\t2 & Danaus plexippus & -117.85259       & 34.13347         & 2017             & 2017-01-09       & california       &  9               & 2               \\\\\n",
       "\t3 & Danaus plexippus & -117.85254       & 34.13339         & 2017             & 2017-01-03       & california       &  3               & 1               \\\\\n",
       "\t5 & Danaus plexippus & -118.42388       & 34.01702         & 2017             & 2017-01-17       & california       & 17               & 3               \\\\\n",
       "\t7 & Danaus plexippus & -122.05990       & 36.98272         & 2017             & 2017-01-28       & california       & 28               & 4               \\\\\n",
       "\t8 & Danaus plexippus & -117.85247       & 34.13336         & 2017             & 2017-01-09       & california       &  9               & 2               \\\\\n",
       "\\end{tabular}\n"
      ],
      "text/markdown": [
       "\n",
       "| <!--/--> | name | long | lat | year | date | states_Dan | DOY | WOY | \n",
       "|---|---|---|---|---|---|\n",
       "| 1 | Danaus plexippus |  -82.54852       | 27.34174         | 2017             | 2017-01-30       | florida          | 30               | 5                | \n",
       "| 2 | Danaus plexippus | -117.85259       | 34.13347         | 2017             | 2017-01-09       | california       |  9               | 2                | \n",
       "| 3 | Danaus plexippus | -117.85254       | 34.13339         | 2017             | 2017-01-03       | california       |  3               | 1                | \n",
       "| 5 | Danaus plexippus | -118.42388       | 34.01702         | 2017             | 2017-01-17       | california       | 17               | 3                | \n",
       "| 7 | Danaus plexippus | -122.05990       | 36.98272         | 2017             | 2017-01-28       | california       | 28               | 4                | \n",
       "| 8 | Danaus plexippus | -117.85247       | 34.13336         | 2017             | 2017-01-09       | california       |  9               | 2                | \n",
       "\n",
       "\n"
      ],
      "text/plain": [
       "  name             long       lat      year date       states_Dan DOY WOY\n",
       "1 Danaus plexippus  -82.54852 27.34174 2017 2017-01-30 florida    30  5  \n",
       "2 Danaus plexippus -117.85259 34.13347 2017 2017-01-09 california  9  2  \n",
       "3 Danaus plexippus -117.85254 34.13339 2017 2017-01-03 california  3  1  \n",
       "5 Danaus plexippus -118.42388 34.01702 2017 2017-01-17 california 17  3  \n",
       "7 Danaus plexippus -122.05990 36.98272 2017 2017-01-28 california 28  4  \n",
       "8 Danaus plexippus -117.85247 34.13336 2017 2017-01-09 california  9  2  "
      ]
     },
     "metadata": {},
     "output_type": "display_data"
    }
   ],
   "source": [
    "head(Asc_state_WOY_clean)\n",
    "head(Dan_state_WOY_clean)"
   ]
  },
  {
   "cell_type": "code",
   "execution_count": null,
   "metadata": {
    "collapsed": false
   },
   "outputs": [],
   "source": []
  }
 ],
 "metadata": {
  "kernelspec": {
   "display_name": "R",
   "language": "R",
   "name": "ir"
  },
  "language_info": {
   "codemirror_mode": "r",
   "file_extension": ".r",
   "mimetype": "text/x-r-source",
   "name": "R",
   "pygments_lexer": "r",
   "version": "3.3.1"
  }
 },
 "nbformat": 4,
 "nbformat_minor": 2
}
